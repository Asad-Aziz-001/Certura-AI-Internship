{
  "nbformat": 4,
  "nbformat_minor": 0,
  "metadata": {
    "colab": {
      "provenance": [],
      "gpuType": "T4"
    },
    "kernelspec": {
      "name": "python3",
      "display_name": "Python 3"
    },
    "language_info": {
      "name": "python"
    },
    "accelerator": "GPU"
  },
  "cells": [
    {
      "cell_type": "code",
      "source": [
        "import re\n",
        "import difflib\n",
        "import datetime"
      ],
      "metadata": {
        "id": "VwEmzfaOJvL-"
      },
      "execution_count": 5,
      "outputs": []
    },
    {
      "cell_type": "markdown",
      "source": [
        "# **Dictionary of common responses**"
      ],
      "metadata": {
        "id": "LuZUTy-SKCeD"
      }
    },
    {
      "cell_type": "code",
      "source": [
        "responses = {\n",
        "    \"hi\": \"Hello! How can I help you today?\",\n",
        "    \"hello\": \"Hello! How can I help you today?\",\n",
        "    \"what is your name\": \"I'm your AI assistant.\",\n",
        "    \"what's your name\": \"I'm your AI assistant.\",\n",
        "    \"how are you\": \"I'm doing well, thank you!\",\n",
        "    \"bye\": \"Goodbye! Have a great day.\",\n",
        "    \"goodbye\": \"Goodbye! Have a great day.\",\n",
        "    \"exit\": \"Goodbye! Have a great day.\",\n",
        "    \"quit\": \"Goodbye! Have a great day.\"\n",
        "}\n"
      ],
      "metadata": {
        "id": "20td-fSlJ-my"
      },
      "execution_count": 7,
      "outputs": []
    },
    {
      "cell_type": "markdown",
      "source": [
        "# **Clean user input**"
      ],
      "metadata": {
        "id": "DcnDc2MRKOQc"
      }
    },
    {
      "cell_type": "code",
      "source": [
        "def clean_input(user_input):\n",
        "    user_input = user_input.lower()\n",
        "    user_input = re.sub(r'[^\\w\\s]', '', user_input)\n",
        "    return user_input.strip()"
      ],
      "metadata": {
        "id": "mmY1aDUgKQhm"
      },
      "execution_count": 8,
      "outputs": []
    },
    {
      "cell_type": "markdown",
      "source": [
        "# **Match user input with known questions**"
      ],
      "metadata": {
        "id": "hZ4Rv_CbKbVh"
      }
    },
    {
      "cell_type": "code",
      "source": [
        "def get_response(user_input):\n",
        "    cleaned = clean_input(user_input)\n",
        "    if cleaned in responses:\n",
        "        return responses[cleaned]\n",
        "    else:\n",
        "        # Fuzzy match: try to find closest matching input\n",
        "        matches = difflib.get_close_matches(cleaned, responses.keys(), n=1, cutoff=0.7)\n",
        "        if matches:\n",
        "            return responses[matches[0]]\n",
        "        else:\n",
        "            return \"I'm sorry, I didn't understand that. Can you rephrase?\""
      ],
      "metadata": {
        "id": "ZPtsu9MfKSk1"
      },
      "execution_count": 9,
      "outputs": []
    },
    {
      "cell_type": "markdown",
      "source": [
        "# **Bonus: Greet based on time of day**"
      ],
      "metadata": {
        "id": "VWC7lxtMKgdd"
      }
    },
    {
      "cell_type": "code",
      "source": [
        "def get_greeting():\n",
        "    hour = datetime.datetime.now().hour\n",
        "    if hour < 12:\n",
        "        return \"Good morning! 👋\"\n",
        "    elif 12 <= hour < 18:\n",
        "        return \"Good afternoon! 👋\"\n",
        "    else:\n",
        "        return \"Good evening! 👋\""
      ],
      "metadata": {
        "id": "qPxKzy_QKnYy"
      },
      "execution_count": 10,
      "outputs": []
    },
    {
      "cell_type": "markdown",
      "source": [
        "# **Conversation logger**"
      ],
      "metadata": {
        "id": "Y3o7m8bRKwA-"
      }
    },
    {
      "cell_type": "code",
      "source": [
        "def log_conversation(user, bot):\n",
        "    with open(\"chat_log.txt\", \"a\") as log_file:\n",
        "        log_file.write(f\"User: {user}\\nBot: {bot}\\n\")\n"
      ],
      "metadata": {
        "id": "Nqd-giS9Kpgx"
      },
      "execution_count": 11,
      "outputs": []
    },
    {
      "cell_type": "markdown",
      "source": [
        "# **Main chatbot loop**"
      ],
      "metadata": {
        "id": "tgV60yLDKzEo"
      }
    },
    {
      "cell_type": "code",
      "source": [
        "def chatbot():\n",
        "    print(get_greeting())\n",
        "    print(\"I'm your chatbot. Type something to begin (type 'exit' or 'quit' to stop).\")\n",
        "    while True:\n",
        "        user_input = input(\"You: \")\n",
        "        if user_input.lower() in [\"exit\", \"quit\"]:\n",
        "            bot_response = responses[\"exit\"]\n",
        "            print(\"Bot:\", bot_response)\n",
        "            log_conversation(user_input, bot_response)\n",
        "            break\n",
        "        bot_response = get_response(user_input)\n",
        "        print(\"Bot:\", bot_response)\n",
        "        log_conversation(user_input, bot_response)"
      ],
      "metadata": {
        "id": "cr1mibmuK1Rq"
      },
      "execution_count": 12,
      "outputs": []
    },
    {
      "cell_type": "markdown",
      "source": [
        "# **Run the chatbot**"
      ],
      "metadata": {
        "id": "iSqK8FEPK58S"
      }
    },
    {
      "cell_type": "code",
      "source": [
        "if __name__ == \"__main__\":\n",
        "    chatbot()"
      ],
      "metadata": {
        "colab": {
          "base_uri": "https://localhost:8080/"
        },
        "id": "x78DIQB0K8UC",
        "outputId": "3f9340a3-b07e-43ea-87d3-74ad07a56068"
      },
      "execution_count": 13,
      "outputs": [
        {
          "output_type": "stream",
          "name": "stdout",
          "text": [
            "Good afternoon! 👋\n",
            "I'm your chatbot. Type something to begin (type 'exit' or 'quit' to stop).\n",
            "You: 12\n",
            "Bot: I'm sorry, I didn't understand that. Can you rephrase?\n",
            "You: hi\n",
            "Bot: Hello! How can I help you today?\n",
            "You: good \n",
            "Bot: Goodbye! Have a great day.\n",
            "You: exit\n",
            "Bot: Goodbye! Have a great day.\n"
          ]
        }
      ]
    },
    {
      "cell_type": "markdown",
      "source": [
        "# **✅ Features Covered:**\n",
        "\n",
        "| Feature                                      | Included |\n",
        "| -------------------------------------------- | -------- |\n",
        "| Rule-based logic                             | ✅        |\n",
        "| NLP Cleaning (lowercase, remove punctuation) | ✅        |\n",
        "| Fuzzy matching (difflib)                     | ✅        |\n",
        "| Small talk (\"How are you?\")                  | ✅        |\n",
        "| Loop until \"exit\" or \"quit\"                  | ✅        |\n",
        "| Time-based greetings                         | ✅        |\n",
        "| Logging conversation to `chat_log.txt`       | ✅        |\n",
        "| Graceful fallback on unknown input           | ✅        |\n",
        "| Fully runnable in terminal or Colab          | ✅        |\n",
        "| Code is well-commented and organized         | ✅        |\n"
      ],
      "metadata": {
        "id": "HsVZZzePLOZ-"
      }
    },
    {
      "cell_type": "markdown",
      "source": [
        "# **💡 Example Output:**\n",
        "Good evening! 👋\n",
        "\n",
        "I'm your chatbot. Type something to begin (type 'exit' or 'quit' to stop).\n",
        "\n",
        "You: Hello\n",
        "Bot: Hello! How can I help you today?\n",
        "\n",
        "You: How are you?\n",
        "Bot: I'm doing well, thank you!\n",
        "\n",
        "You: What's your name\n",
        "Bot: I'm your AI assistant.\n",
        "\n",
        "You: Bye\n",
        "Bot: Goodbye! Have a great day."
      ],
      "metadata": {
        "id": "c_l9b8spLWEL"
      }
    }
  ]
}